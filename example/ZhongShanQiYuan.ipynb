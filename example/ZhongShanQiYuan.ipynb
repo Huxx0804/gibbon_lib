{
 "metadata": {
  "language_info": {
   "codemirror_mode": {
    "name": "ipython",
    "version": 3
   },
   "file_extension": ".py",
   "mimetype": "text/x-python",
   "name": "python",
   "nbconvert_exporter": "python",
   "pygments_lexer": "ipython3",
   "version": "3.7.1-final"
  },
  "orig_nbformat": 2,
  "kernelspec": {
   "name": "python_defaultSpec_1599200168530",
   "display_name": "Python 3.7.1 64-bit ('base': conda)"
  }
 },
 "nbformat": 4,
 "nbformat_minor": 2,
 "cells": [
  {
   "cell_type": "code",
   "execution_count": 1,
   "metadata": {},
   "outputs": [],
   "source": [
    "from gibbon.maps import MapSensor, TerrainMap\n",
    "from gibbon.web_api import MapBox"
   ]
  },
  {
   "cell_type": "code",
   "execution_count": 12,
   "metadata": {},
   "outputs": [],
   "source": [
    "origin = [113.951260, 22.79120]\n",
    "radius = 5000\n",
    "export_path = r'C:\\Users\\wenhs\\Desktop\\ZhongShanQiYuan\\5km'"
   ]
  },
  {
   "cell_type": "code",
   "execution_count": 13,
   "metadata": {},
   "outputs": [],
   "source": [
    "sensor = MapSensor(origin, radius)"
   ]
  },
  {
   "cell_type": "code",
   "execution_count": 14,
   "metadata": {},
   "outputs": [],
   "source": [
    "tmaps = TerrainMap(sensor)"
   ]
  },
  {
   "cell_type": "code",
   "execution_count": 15,
   "metadata": {
    "tags": []
   },
   "outputs": [
    {
     "output_type": "stream",
     "name": "stdout",
     "text": "[53510, 28504, 16] >>> Finished\n[53509, 28505, 16] >>> Finished\n[53510, 28506, 16] >>> Finished\n[53509, 28504, 16] >>> Finished\n[53511, 28503, 16] >>> Finished\n[53509, 28502, 16] >>> Finished\n[53509, 28508, 16] >>> Finished\n[53511, 28502, 16] >>> Finished\n[53510, 28508, 16] >>> Finished\n[53511, 28508, 16] >>> Finished\n[53509, 28506, 16] >>> Finished\n[53512, 28505, 16] >>> Finished\n[53513, 28502, 16] >>> Finished\n[53512, 28504, 16] >>> Finished\n[53512, 28507, 16] >>> Finished\n[53513, 28506, 16] >>> Finished[53512, 28508, 16] >>> Finished\n\n[53512, 28502, 16] >>> Finished[53510, 28502, 16] >>> Finished\n\n[53509, 28507, 16] >>> Finished\n[53515, 28508, 16] >>> Finished\n[53512, 28506, 16] >>> Finished\n[53511, 28507, 16] >>> Finished\n[53514, 28504, 16] >>> Finished\n[53510, 28503, 16] >>> Finished\n[53515, 28507, 16] >>> Finished\n[53513, 28508, 16] >>> Finished\n[53513, 28505, 16] >>> Finished\n[53510, 28505, 16] >>> Finished\n[53513, 28503, 16] >>> Finished\n[53514, 28503, 16] >>> Finished\n[53514, 28507, 16] >>> Finished\n[53515, 28506, 16] >>> Finished\n[53513, 28507, 16] >>> Finished\n[53509, 28503, 16] >>> Finished\n[53514, 28506, 16] >>> Finished\n[53514, 28502, 16] >>> Finished\n[53514, 28505, 16] >>> Finished\n[53514, 28508, 16] >>> Finished\n[53513, 28504, 16] >>> Finished\n[53511, 28504, 16] >>> Finished\n[53511, 28505, 16] >>> Finished\n[53515, 28504, 16] >>> Finished\n[53510, 28507, 16] >>> Finished\n[53515, 28502, 16] >>> Finished\n[53515, 28503, 16] >>> Finished\n[53511, 28506, 16] >>> Finished\n[53512, 28503, 16] >>> Finished\n[53515, 28505, 16] >>> Finished\nFinished >>> 49 tiles\n"
    }
   ],
   "source": [
    "tmaps.create()"
   ]
  },
  {
   "cell_type": "code",
   "execution_count": 19,
   "metadata": {},
   "outputs": [],
   "source": [
    "p = export_path + r'\\mesh\\terrain.json'\n",
    "tmaps.dump_mesh(p)"
   ]
  },
  {
   "cell_type": "code",
   "execution_count": 20,
   "metadata": {},
   "outputs": [],
   "source": [
    "mapbox = MapBox()"
   ]
  },
  {
   "cell_type": "code",
   "execution_count": 21,
   "metadata": {
    "tags": []
   },
   "outputs": [
    {
     "output_type": "stream",
     "name": "stdout",
     "text": "HTTPSConnectionPool(host='api.mapbox.com', port=443): Max retries exceeded with url: /v4/mapbox.satellite/16/53512/28503@2x.png?access_token=sk.eyJ1IjoidmN0Y24iLCJhIjoiY2sxaDc4ZGllMGF0dTNpanlvOXdjNmVrNCJ9.ImJfE6k-f0aMzJj6vSHEYg (Caused by ProxyError('Cannot connect to proxy.', RemoteDisconnected('Remote end closed connection without response')))\nimage file is truncated (6 bytes not processed)\nHTTPSConnectionPool(host='api.mapbox.com', port=443): Max retries exceeded with url: /v4/mapbox.satellite/16/53514/28504@2x.png?access_token=sk.eyJ1IjoidmN0Y24iLCJhIjoiY2sxaDc4ZGllMGF0dTNpanlvOXdjNmVrNCJ9.ImJfE6k-f0aMzJj6vSHEYg (Caused by SSLError(SSLError(\"bad handshake: SysCallError(-1, 'Unexpected EOF')\")))\nHTTPSConnectionPool(host='api.mapbox.com', port=443): Max retries exceeded with url: /v4/mapbox.satellite/16/53514/28508@2x.png?access_token=sk.eyJ1IjoidmN0Y24iLCJhIjoiY2sxaDc4ZGllMGF0dTNpanlvOXdjNmVrNCJ9.ImJfE6k-f0aMzJj6vSHEYg (Caused by SSLError(SSLError(\"bad handshake: SysCallError(-1, 'Unexpected EOF')\")))\nHTTPSConnectionPool(host='api.mapbox.com', port=443): Max retries exceeded with url: /v4/mapbox.satellite/16/53515/28502@2x.png?access_token=sk.eyJ1IjoidmN0Y24iLCJhIjoiY2sxaDc4ZGllMGF0dTNpanlvOXdjNmVrNCJ9.ImJfE6k-f0aMzJj6vSHEYg (Caused by SSLError(SSLError(\"bad handshake: SysCallError(-1, 'Unexpected EOF')\")))\nHTTPSConnectionPool(host='api.mapbox.com', port=443): Max retries exceeded with url: /v4/mapbox.satellite/16/53515/28502@2x.png?access_token=sk.eyJ1IjoidmN0Y24iLCJhIjoiY2sxaDc4ZGllMGF0dTNpanlvOXdjNmVrNCJ9.ImJfE6k-f0aMzJj6vSHEYg (Caused by SSLError(SSLError(\"bad handshake: SysCallError(-1, 'Unexpected EOF')\")))\nHTTPSConnectionPool(host='api.mapbox.com', port=443): Max retries exceeded with url: /v4/mapbox.satellite/16/53515/28507@2x.png?access_token=sk.eyJ1IjoidmN0Y24iLCJhIjoiY2sxaDc4ZGllMGF0dTNpanlvOXdjNmVrNCJ9.ImJfE6k-f0aMzJj6vSHEYg (Caused by SSLError(SSLError(\"bad handshake: SysCallError(-1, 'Unexpected EOF')\")))\nHTTPSConnectionPool(host='api.mapbox.com', port=443): Max retries exceeded with url: /v4/mapbox.satellite/16/53515/28507@2x.png?access_token=sk.eyJ1IjoidmN0Y24iLCJhIjoiY2sxaDc4ZGllMGF0dTNpanlvOXdjNmVrNCJ9.ImJfE6k-f0aMzJj6vSHEYg (Caused by SSLError(SSLError(\"bad handshake: SysCallError(-1, 'Unexpected EOF')\")))\nHTTPSConnectionPool(host='api.mapbox.com', port=443): Max retries exceeded with url: /v4/mapbox.satellite/16/53515/28507@2x.png?access_token=sk.eyJ1IjoidmN0Y24iLCJhIjoiY2sxaDc4ZGllMGF0dTNpanlvOXdjNmVrNCJ9.ImJfE6k-f0aMzJj6vSHEYg (Caused by SSLError(SSLError(\"bad handshake: SysCallError(-1, 'Unexpected EOF')\")))\n"
    }
   ],
   "source": [
    "indices = sensor._indices.reshape(-1, 3).tolist()\n",
    "p = export_path + r'\\texture\\satellite'\n",
    "mapbox.dump_texture_by_indices(p, indices, 'satellite')"
   ]
  },
  {
   "cell_type": "code",
   "execution_count": null,
   "metadata": {},
   "outputs": [],
   "source": []
  }
 ]
}