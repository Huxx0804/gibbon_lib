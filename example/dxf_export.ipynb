{
 "metadata": {
  "language_info": {
   "codemirror_mode": {
    "name": "ipython",
    "version": 3
   },
   "file_extension": ".py",
   "mimetype": "text/x-python",
   "name": "python",
   "nbconvert_exporter": "python",
   "pygments_lexer": "ipython3",
   "version": "3.7.1-final"
  },
  "orig_nbformat": 2,
  "kernelspec": {
   "name": "python_defaultSpec_1597373382977",
   "display_name": "Python 3.7.1 64-bit ('base': conda)"
  }
 },
 "nbformat": 4,
 "nbformat_minor": 2,
 "cells": [
  {
   "cell_type": "code",
   "execution_count": 4,
   "metadata": {},
   "outputs": [],
   "source": [
    "from gibbon.dxfs import GraphSpace, MyMaskSpace\n",
    "import numpy as np\n",
    "import pandas as pd"
   ]
  },
  {
   "cell_type": "code",
   "execution_count": 2,
   "metadata": {},
   "outputs": [],
   "source": [
    "paths = [\n",
    "    r'F:\\02_projects\\cads\\dxfs\\1-150.dxf',\n",
    "    r'F:\\02_projects\\cads\\dxfs\\151-250.dxf'\n",
    "]\n",
    "vector = [420.0, 0]\n",
    "export_path = export_path = r'F:\\02_projects\\cads\\export'\n",
    "config = {\n",
    "    '1': '人工填土',\n",
    "    '2': '植物层',\n",
    "    '3': '粉质粘土',\n",
    "    '4': '粉质粘土_2',\n",
    "    '5': '粉质粘土含圆砾',\n",
    "    '6': '粉质粘土_3',\n",
    "    '7': '强风化泥质粉砂岩',\n",
    "    '8': '中风化泥质粉砂岩',\n",
    "    '81': '强风化泥质粉砂岩_2',\n",
    "    '82': '中风化泥质粉砂岩_2',\n",
    "}"
   ]
  },
  {
   "cell_type": "code",
   "execution_count": 5,
   "metadata": {
    "tags": []
   },
   "outputs": [
    {
     "output_type": "execute_result",
     "data": {
      "text/plain": "     type height thickness         x         y\n0       8  27.00     22.40  86004.29  50083.42\n1       7  49.40      1.90  86004.29  50083.42\n2       6  51.30      0.80  86004.29  50083.42\n3       4  52.10      2.30  86004.29  50083.42\n4       2  54.40      0.50  86004.29  50083.42\n5       1  54.90      3.50  86004.29  50083.42\n6       8  29.70     18.70  86012.86  50104.35\n7       7  48.40      2.60  86012.86  50104.35\n8       6  51.00      1.00  86012.86  50104.35\n9       4  52.00      2.40  86012.86  50104.35\n10      1  54.40      3.60  86012.86  50104.35\n11      8  26.20     22.90  86017.33  50127.93\n12      7  49.10      2.00  86017.33  50127.93\n13      6  51.10      0.90  86017.33  50127.93\n14      3  52.00      3.80  86017.33  50127.93\n15      1  55.80      1.80  86017.33  50127.93\n16      8  30.40     19.10  86021.80  50151.51\n17      7  49.50      1.50  86021.80  50151.51\n18      6  51.00      0.60  86021.80  50151.51\n19      3  51.60      3.80  86021.80  50151.51\n20      1  55.40      1.90  86021.80  50151.51\n21      8  25.30     23.10  86026.46  50175.92\n22      7  48.40      2.90  86026.46  50175.92\n23      6  51.30      0.80  86026.46  50175.92\n24      3  52.10      1.30  86026.46  50175.92\n25      1  53.40      4.20  86026.46  50175.92\n26      8  27.10      4.50  86031.29  50201.54\n27     82  31.60      1.80  86031.29  50201.54\n28      8  33.40      2.20  86031.29  50201.54\n29     82  35.60      2.70  86031.29  50201.54\n...   ...    ...       ...       ...       ...\n1346    4  54.96      3.00  85473.97  50290.69\n1347    2  66.96      0.40  85473.97  50290.69\n1348    8  28.00     16.00  85480.79  50319.91\n1349    7  44.00     10.00  85480.79  50319.91\n1350    6  54.00      1.00  85480.79  50319.91\n1351    4  55.00      1.60  85480.79  50319.91\n1352    3  56.60      1.80  85480.79  50319.91\n1353    1  58.40      6.20  85480.79  50319.91\n1354    8  27.80     19.70  85486.99  50344.47\n1355    7  47.50      6.20  85486.99  50344.47\n1356    6  53.70      1.30  85486.99  50344.47\n1357    4  55.00      1.50  85486.99  50344.47\n1358    1  56.50      8.00  85486.99  50344.47\n1359    8  30.20     15.90  85492.83  50369.13\n1360    7  46.10      7.60  85492.83  50369.13\n1361    6  53.70      0.40  85492.83  50369.13\n1362    4  54.10      2.20  85492.83  50369.13\n1363    1  56.30      8.40  85492.83  50369.13\n1364    8  27.80     17.00  85501.72  50397.92\n1365   82  32.10      4.30  85501.72  50397.92\n1366    8  33.60      1.50  85501.72  50397.92\n1367    7  50.60      7.70  85501.72  50397.92\n1368    6  58.30      0.50  85501.72  50397.92\n1369    3  58.80      0.80  85501.72  50397.92\n1370    1  59.60      5.00  85501.72  50397.92\n1371    8  29.66     20.90  85505.21  50418.59\n1372    7  50.56      4.00  85505.21  50418.59\n1373    4  54.56      2.30  85505.21  50418.59\n1374    3  56.86      1.50  85505.21  50418.59\n1375    1  58.36      6.20  85505.21  50418.59\n\n[1376 rows x 5 columns]",
      "text/html": "<div>\n<style scoped>\n    .dataframe tbody tr th:only-of-type {\n        vertical-align: middle;\n    }\n\n    .dataframe tbody tr th {\n        vertical-align: top;\n    }\n\n    .dataframe thead th {\n        text-align: right;\n    }\n</style>\n<table border=\"1\" class=\"dataframe\">\n  <thead>\n    <tr style=\"text-align: right;\">\n      <th></th>\n      <th>type</th>\n      <th>height</th>\n      <th>thickness</th>\n      <th>x</th>\n      <th>y</th>\n    </tr>\n  </thead>\n  <tbody>\n    <tr>\n      <th>0</th>\n      <td>8</td>\n      <td>27.00</td>\n      <td>22.40</td>\n      <td>86004.29</td>\n      <td>50083.42</td>\n    </tr>\n    <tr>\n      <th>1</th>\n      <td>7</td>\n      <td>49.40</td>\n      <td>1.90</td>\n      <td>86004.29</td>\n      <td>50083.42</td>\n    </tr>\n    <tr>\n      <th>2</th>\n      <td>6</td>\n      <td>51.30</td>\n      <td>0.80</td>\n      <td>86004.29</td>\n      <td>50083.42</td>\n    </tr>\n    <tr>\n      <th>3</th>\n      <td>4</td>\n      <td>52.10</td>\n      <td>2.30</td>\n      <td>86004.29</td>\n      <td>50083.42</td>\n    </tr>\n    <tr>\n      <th>4</th>\n      <td>2</td>\n      <td>54.40</td>\n      <td>0.50</td>\n      <td>86004.29</td>\n      <td>50083.42</td>\n    </tr>\n    <tr>\n      <th>5</th>\n      <td>1</td>\n      <td>54.90</td>\n      <td>3.50</td>\n      <td>86004.29</td>\n      <td>50083.42</td>\n    </tr>\n    <tr>\n      <th>6</th>\n      <td>8</td>\n      <td>29.70</td>\n      <td>18.70</td>\n      <td>86012.86</td>\n      <td>50104.35</td>\n    </tr>\n    <tr>\n      <th>7</th>\n      <td>7</td>\n      <td>48.40</td>\n      <td>2.60</td>\n      <td>86012.86</td>\n      <td>50104.35</td>\n    </tr>\n    <tr>\n      <th>8</th>\n      <td>6</td>\n      <td>51.00</td>\n      <td>1.00</td>\n      <td>86012.86</td>\n      <td>50104.35</td>\n    </tr>\n    <tr>\n      <th>9</th>\n      <td>4</td>\n      <td>52.00</td>\n      <td>2.40</td>\n      <td>86012.86</td>\n      <td>50104.35</td>\n    </tr>\n    <tr>\n      <th>10</th>\n      <td>1</td>\n      <td>54.40</td>\n      <td>3.60</td>\n      <td>86012.86</td>\n      <td>50104.35</td>\n    </tr>\n    <tr>\n      <th>11</th>\n      <td>8</td>\n      <td>26.20</td>\n      <td>22.90</td>\n      <td>86017.33</td>\n      <td>50127.93</td>\n    </tr>\n    <tr>\n      <th>12</th>\n      <td>7</td>\n      <td>49.10</td>\n      <td>2.00</td>\n      <td>86017.33</td>\n      <td>50127.93</td>\n    </tr>\n    <tr>\n      <th>13</th>\n      <td>6</td>\n      <td>51.10</td>\n      <td>0.90</td>\n      <td>86017.33</td>\n      <td>50127.93</td>\n    </tr>\n    <tr>\n      <th>14</th>\n      <td>3</td>\n      <td>52.00</td>\n      <td>3.80</td>\n      <td>86017.33</td>\n      <td>50127.93</td>\n    </tr>\n    <tr>\n      <th>15</th>\n      <td>1</td>\n      <td>55.80</td>\n      <td>1.80</td>\n      <td>86017.33</td>\n      <td>50127.93</td>\n    </tr>\n    <tr>\n      <th>16</th>\n      <td>8</td>\n      <td>30.40</td>\n      <td>19.10</td>\n      <td>86021.80</td>\n      <td>50151.51</td>\n    </tr>\n    <tr>\n      <th>17</th>\n      <td>7</td>\n      <td>49.50</td>\n      <td>1.50</td>\n      <td>86021.80</td>\n      <td>50151.51</td>\n    </tr>\n    <tr>\n      <th>18</th>\n      <td>6</td>\n      <td>51.00</td>\n      <td>0.60</td>\n      <td>86021.80</td>\n      <td>50151.51</td>\n    </tr>\n    <tr>\n      <th>19</th>\n      <td>3</td>\n      <td>51.60</td>\n      <td>3.80</td>\n      <td>86021.80</td>\n      <td>50151.51</td>\n    </tr>\n    <tr>\n      <th>20</th>\n      <td>1</td>\n      <td>55.40</td>\n      <td>1.90</td>\n      <td>86021.80</td>\n      <td>50151.51</td>\n    </tr>\n    <tr>\n      <th>21</th>\n      <td>8</td>\n      <td>25.30</td>\n      <td>23.10</td>\n      <td>86026.46</td>\n      <td>50175.92</td>\n    </tr>\n    <tr>\n      <th>22</th>\n      <td>7</td>\n      <td>48.40</td>\n      <td>2.90</td>\n      <td>86026.46</td>\n      <td>50175.92</td>\n    </tr>\n    <tr>\n      <th>23</th>\n      <td>6</td>\n      <td>51.30</td>\n      <td>0.80</td>\n      <td>86026.46</td>\n      <td>50175.92</td>\n    </tr>\n    <tr>\n      <th>24</th>\n      <td>3</td>\n      <td>52.10</td>\n      <td>1.30</td>\n      <td>86026.46</td>\n      <td>50175.92</td>\n    </tr>\n    <tr>\n      <th>25</th>\n      <td>1</td>\n      <td>53.40</td>\n      <td>4.20</td>\n      <td>86026.46</td>\n      <td>50175.92</td>\n    </tr>\n    <tr>\n      <th>26</th>\n      <td>8</td>\n      <td>27.10</td>\n      <td>4.50</td>\n      <td>86031.29</td>\n      <td>50201.54</td>\n    </tr>\n    <tr>\n      <th>27</th>\n      <td>82</td>\n      <td>31.60</td>\n      <td>1.80</td>\n      <td>86031.29</td>\n      <td>50201.54</td>\n    </tr>\n    <tr>\n      <th>28</th>\n      <td>8</td>\n      <td>33.40</td>\n      <td>2.20</td>\n      <td>86031.29</td>\n      <td>50201.54</td>\n    </tr>\n    <tr>\n      <th>29</th>\n      <td>82</td>\n      <td>35.60</td>\n      <td>2.70</td>\n      <td>86031.29</td>\n      <td>50201.54</td>\n    </tr>\n    <tr>\n      <th>...</th>\n      <td>...</td>\n      <td>...</td>\n      <td>...</td>\n      <td>...</td>\n      <td>...</td>\n    </tr>\n    <tr>\n      <th>1346</th>\n      <td>4</td>\n      <td>54.96</td>\n      <td>3.00</td>\n      <td>85473.97</td>\n      <td>50290.69</td>\n    </tr>\n    <tr>\n      <th>1347</th>\n      <td>2</td>\n      <td>66.96</td>\n      <td>0.40</td>\n      <td>85473.97</td>\n      <td>50290.69</td>\n    </tr>\n    <tr>\n      <th>1348</th>\n      <td>8</td>\n      <td>28.00</td>\n      <td>16.00</td>\n      <td>85480.79</td>\n      <td>50319.91</td>\n    </tr>\n    <tr>\n      <th>1349</th>\n      <td>7</td>\n      <td>44.00</td>\n      <td>10.00</td>\n      <td>85480.79</td>\n      <td>50319.91</td>\n    </tr>\n    <tr>\n      <th>1350</th>\n      <td>6</td>\n      <td>54.00</td>\n      <td>1.00</td>\n      <td>85480.79</td>\n      <td>50319.91</td>\n    </tr>\n    <tr>\n      <th>1351</th>\n      <td>4</td>\n      <td>55.00</td>\n      <td>1.60</td>\n      <td>85480.79</td>\n      <td>50319.91</td>\n    </tr>\n    <tr>\n      <th>1352</th>\n      <td>3</td>\n      <td>56.60</td>\n      <td>1.80</td>\n      <td>85480.79</td>\n      <td>50319.91</td>\n    </tr>\n    <tr>\n      <th>1353</th>\n      <td>1</td>\n      <td>58.40</td>\n      <td>6.20</td>\n      <td>85480.79</td>\n      <td>50319.91</td>\n    </tr>\n    <tr>\n      <th>1354</th>\n      <td>8</td>\n      <td>27.80</td>\n      <td>19.70</td>\n      <td>85486.99</td>\n      <td>50344.47</td>\n    </tr>\n    <tr>\n      <th>1355</th>\n      <td>7</td>\n      <td>47.50</td>\n      <td>6.20</td>\n      <td>85486.99</td>\n      <td>50344.47</td>\n    </tr>\n    <tr>\n      <th>1356</th>\n      <td>6</td>\n      <td>53.70</td>\n      <td>1.30</td>\n      <td>85486.99</td>\n      <td>50344.47</td>\n    </tr>\n    <tr>\n      <th>1357</th>\n      <td>4</td>\n      <td>55.00</td>\n      <td>1.50</td>\n      <td>85486.99</td>\n      <td>50344.47</td>\n    </tr>\n    <tr>\n      <th>1358</th>\n      <td>1</td>\n      <td>56.50</td>\n      <td>8.00</td>\n      <td>85486.99</td>\n      <td>50344.47</td>\n    </tr>\n    <tr>\n      <th>1359</th>\n      <td>8</td>\n      <td>30.20</td>\n      <td>15.90</td>\n      <td>85492.83</td>\n      <td>50369.13</td>\n    </tr>\n    <tr>\n      <th>1360</th>\n      <td>7</td>\n      <td>46.10</td>\n      <td>7.60</td>\n      <td>85492.83</td>\n      <td>50369.13</td>\n    </tr>\n    <tr>\n      <th>1361</th>\n      <td>6</td>\n      <td>53.70</td>\n      <td>0.40</td>\n      <td>85492.83</td>\n      <td>50369.13</td>\n    </tr>\n    <tr>\n      <th>1362</th>\n      <td>4</td>\n      <td>54.10</td>\n      <td>2.20</td>\n      <td>85492.83</td>\n      <td>50369.13</td>\n    </tr>\n    <tr>\n      <th>1363</th>\n      <td>1</td>\n      <td>56.30</td>\n      <td>8.40</td>\n      <td>85492.83</td>\n      <td>50369.13</td>\n    </tr>\n    <tr>\n      <th>1364</th>\n      <td>8</td>\n      <td>27.80</td>\n      <td>17.00</td>\n      <td>85501.72</td>\n      <td>50397.92</td>\n    </tr>\n    <tr>\n      <th>1365</th>\n      <td>82</td>\n      <td>32.10</td>\n      <td>4.30</td>\n      <td>85501.72</td>\n      <td>50397.92</td>\n    </tr>\n    <tr>\n      <th>1366</th>\n      <td>8</td>\n      <td>33.60</td>\n      <td>1.50</td>\n      <td>85501.72</td>\n      <td>50397.92</td>\n    </tr>\n    <tr>\n      <th>1367</th>\n      <td>7</td>\n      <td>50.60</td>\n      <td>7.70</td>\n      <td>85501.72</td>\n      <td>50397.92</td>\n    </tr>\n    <tr>\n      <th>1368</th>\n      <td>6</td>\n      <td>58.30</td>\n      <td>0.50</td>\n      <td>85501.72</td>\n      <td>50397.92</td>\n    </tr>\n    <tr>\n      <th>1369</th>\n      <td>3</td>\n      <td>58.80</td>\n      <td>0.80</td>\n      <td>85501.72</td>\n      <td>50397.92</td>\n    </tr>\n    <tr>\n      <th>1370</th>\n      <td>1</td>\n      <td>59.60</td>\n      <td>5.00</td>\n      <td>85501.72</td>\n      <td>50397.92</td>\n    </tr>\n    <tr>\n      <th>1371</th>\n      <td>8</td>\n      <td>29.66</td>\n      <td>20.90</td>\n      <td>85505.21</td>\n      <td>50418.59</td>\n    </tr>\n    <tr>\n      <th>1372</th>\n      <td>7</td>\n      <td>50.56</td>\n      <td>4.00</td>\n      <td>85505.21</td>\n      <td>50418.59</td>\n    </tr>\n    <tr>\n      <th>1373</th>\n      <td>4</td>\n      <td>54.56</td>\n      <td>2.30</td>\n      <td>85505.21</td>\n      <td>50418.59</td>\n    </tr>\n    <tr>\n      <th>1374</th>\n      <td>3</td>\n      <td>56.86</td>\n      <td>1.50</td>\n      <td>85505.21</td>\n      <td>50418.59</td>\n    </tr>\n    <tr>\n      <th>1375</th>\n      <td>1</td>\n      <td>58.36</td>\n      <td>6.20</td>\n      <td>85505.21</td>\n      <td>50418.59</td>\n    </tr>\n  </tbody>\n</table>\n<p>1376 rows × 5 columns</p>\n</div>"
     },
     "metadata": {},
     "execution_count": 5
    }
   ],
   "source": [
    "data = list()\n",
    "\n",
    "for path in paths:\n",
    "    gs = GraphSpace(path)\n",
    "    df_texts = gs.load_texts()\n",
    "    selections = gs.load_selections()\n",
    "\n",
    "    ms = MyMaskSpace(selections, vector)\n",
    "\n",
    "    while ms.base_point[0] < df_texts['cad_x'].max():\n",
    "        ms.get(df_texts)\n",
    "        ms.move()\n",
    "\n",
    "    data.append(ms.data)\n",
    "\n",
    "df = pd.concat(data, ignore_index=True)\n",
    "df"
   ]
  },
  {
   "cell_type": "code",
   "execution_count": 6,
   "metadata": {},
   "outputs": [],
   "source": [
    "for key, value in config.items():\n",
    "    p = f'{export_path}\\{value}.json'\n",
    "    dt = ms.data[ms.data['type']==key]\n",
    "    dt.to_json(p)"
   ]
  },
  {
   "cell_type": "code",
   "execution_count": null,
   "metadata": {},
   "outputs": [],
   "source": []
  }
 ]
}