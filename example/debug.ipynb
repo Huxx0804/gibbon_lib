{
 "metadata": {
  "language_info": {
   "codemirror_mode": {
    "name": "ipython",
    "version": 3
   },
   "file_extension": ".py",
   "mimetype": "text/x-python",
   "name": "python",
   "nbconvert_exporter": "python",
   "pygments_lexer": "ipython3",
   "version": "3.7.1-final"
  },
  "orig_nbformat": 2,
  "kernelspec": {
   "name": "python_defaultSpec_1598581811772",
   "display_name": "Python 3.7.1 64-bit ('base': conda)"
  }
 },
 "nbformat": 4,
 "nbformat_minor": 2,
 "cells": [
  {
   "cell_type": "code",
   "execution_count": 1,
   "metadata": {},
   "outputs": [],
   "source": [
    "import pandas as pd"
   ]
  },
  {
   "cell_type": "code",
   "execution_count": 5,
   "metadata": {},
   "outputs": [],
   "source": [
    "data = [\n",
    "    {\"type\": 8, \"height\": 22.58, \"thickness\": 27.00, \"x\": 85620.72, \"y\": 50278.41},\n",
    "    {\"type\": 82, \"height\": 49.58, \"thickness\": 0.60, \"x\": 85620.72, \"y\": 50278.41},\n",
    "    {\"type\": 8, \"height\": 50.18, \"thickness\": 0.30, \"x\": 85620.72, \"y\": 50278.41},\n",
    "    {\"type\": 7, \"height\": 50.48, \"thickness\": 0.60, \"x\": 85620.72, \"y\": 50278.41},\n",
    "    {\"type\": 6, \"height\": 51.08, \"thickness\": 0.70, \"x\": 85620.72, \"y\": 50278.41},\n",
    "    {\"type\": 5, \"height\": 51.78, \"thickness\": 1.10, \"x\": 85620.72, \"y\": 50278.41},\n",
    "    {\"type\": 4, \"height\": 52.88, \"thickness\": 1.60, \"x\": 85620.72, \"y\": 50278.41},\n",
    "    {\"type\": 2, \"height\": 54.48, \"thickness\": 0.60, \"x\": 85620.72, \"y\": 50278.41} \n",
    "]"
   ]
  },
  {
   "cell_type": "code",
   "execution_count": 6,
   "metadata": {},
   "outputs": [],
   "source": [
    "df = pd.DataFrame(data)"
   ]
  },
  {
   "cell_type": "code",
   "execution_count": 7,
   "metadata": {},
   "outputs": [
    {
     "output_type": "execute_result",
     "data": {
      "text/plain": "   height  thickness  type         x         y\n0   22.58       27.0     8  85620.72  50278.41\n1   49.58        0.6    82  85620.72  50278.41\n2   50.18        0.3     8  85620.72  50278.41\n3   50.48        0.6     7  85620.72  50278.41\n4   51.08        0.7     6  85620.72  50278.41\n5   51.78        1.1     5  85620.72  50278.41\n6   52.88        1.6     4  85620.72  50278.41\n7   54.48        0.6     2  85620.72  50278.41",
      "text/html": "<div>\n<style scoped>\n    .dataframe tbody tr th:only-of-type {\n        vertical-align: middle;\n    }\n\n    .dataframe tbody tr th {\n        vertical-align: top;\n    }\n\n    .dataframe thead th {\n        text-align: right;\n    }\n</style>\n<table border=\"1\" class=\"dataframe\">\n  <thead>\n    <tr style=\"text-align: right;\">\n      <th></th>\n      <th>height</th>\n      <th>thickness</th>\n      <th>type</th>\n      <th>x</th>\n      <th>y</th>\n    </tr>\n  </thead>\n  <tbody>\n    <tr>\n      <th>0</th>\n      <td>22.58</td>\n      <td>27.0</td>\n      <td>8</td>\n      <td>85620.72</td>\n      <td>50278.41</td>\n    </tr>\n    <tr>\n      <th>1</th>\n      <td>49.58</td>\n      <td>0.6</td>\n      <td>82</td>\n      <td>85620.72</td>\n      <td>50278.41</td>\n    </tr>\n    <tr>\n      <th>2</th>\n      <td>50.18</td>\n      <td>0.3</td>\n      <td>8</td>\n      <td>85620.72</td>\n      <td>50278.41</td>\n    </tr>\n    <tr>\n      <th>3</th>\n      <td>50.48</td>\n      <td>0.6</td>\n      <td>7</td>\n      <td>85620.72</td>\n      <td>50278.41</td>\n    </tr>\n    <tr>\n      <th>4</th>\n      <td>51.08</td>\n      <td>0.7</td>\n      <td>6</td>\n      <td>85620.72</td>\n      <td>50278.41</td>\n    </tr>\n    <tr>\n      <th>5</th>\n      <td>51.78</td>\n      <td>1.1</td>\n      <td>5</td>\n      <td>85620.72</td>\n      <td>50278.41</td>\n    </tr>\n    <tr>\n      <th>6</th>\n      <td>52.88</td>\n      <td>1.6</td>\n      <td>4</td>\n      <td>85620.72</td>\n      <td>50278.41</td>\n    </tr>\n    <tr>\n      <th>7</th>\n      <td>54.48</td>\n      <td>0.6</td>\n      <td>2</td>\n      <td>85620.72</td>\n      <td>50278.41</td>\n    </tr>\n  </tbody>\n</table>\n</div>"
     },
     "metadata": {},
     "execution_count": 7
    }
   ],
   "source": [
    "df"
   ]
  },
  {
   "cell_type": "code",
   "execution_count": 8,
   "metadata": {},
   "outputs": [],
   "source": [
    "df['level'] = None"
   ]
  },
  {
   "cell_type": "code",
   "execution_count": 40,
   "metadata": {},
   "outputs": [
    {
     "output_type": "execute_result",
     "data": {
      "text/plain": "array([ 8, 82,  7,  6,  5,  4,  2], dtype=int64)"
     },
     "metadata": {},
     "execution_count": 40
    }
   ],
   "source": [
    "t = df['type'].unique()\n",
    "t"
   ]
  },
  {
   "cell_type": "code",
   "execution_count": 45,
   "metadata": {
    "tags": []
   },
   "outputs": [],
   "source": [
    "for item in t:\n",
    "    a = df[df['type'] == item]\n",
    "    indices = list(range(len(a)))\n",
    "\n",
    "    for i in a.index:\n",
    "        level = indices.pop()\n",
    "        df.iloc[i]['level'] = level\n"
   ]
  },
  {
   "cell_type": "code",
   "execution_count": 46,
   "metadata": {},
   "outputs": [
    {
     "output_type": "execute_result",
     "data": {
      "text/plain": "   height  thickness  type         x         y level\n0   22.58       27.0     8  85620.72  50278.41  None\n1   49.58        0.6    82  85620.72  50278.41  None\n2   50.18        0.3     8  85620.72  50278.41  None\n3   50.48        0.6     7  85620.72  50278.41  None\n4   51.08        0.7     6  85620.72  50278.41  None\n5   51.78        1.1     5  85620.72  50278.41  None\n6   52.88        1.6     4  85620.72  50278.41  None\n7   54.48        0.6     2  85620.72  50278.41  None",
      "text/html": "<div>\n<style scoped>\n    .dataframe tbody tr th:only-of-type {\n        vertical-align: middle;\n    }\n\n    .dataframe tbody tr th {\n        vertical-align: top;\n    }\n\n    .dataframe thead th {\n        text-align: right;\n    }\n</style>\n<table border=\"1\" class=\"dataframe\">\n  <thead>\n    <tr style=\"text-align: right;\">\n      <th></th>\n      <th>height</th>\n      <th>thickness</th>\n      <th>type</th>\n      <th>x</th>\n      <th>y</th>\n      <th>level</th>\n    </tr>\n  </thead>\n  <tbody>\n    <tr>\n      <th>0</th>\n      <td>22.58</td>\n      <td>27.0</td>\n      <td>8</td>\n      <td>85620.72</td>\n      <td>50278.41</td>\n      <td>None</td>\n    </tr>\n    <tr>\n      <th>1</th>\n      <td>49.58</td>\n      <td>0.6</td>\n      <td>82</td>\n      <td>85620.72</td>\n      <td>50278.41</td>\n      <td>None</td>\n    </tr>\n    <tr>\n      <th>2</th>\n      <td>50.18</td>\n      <td>0.3</td>\n      <td>8</td>\n      <td>85620.72</td>\n      <td>50278.41</td>\n      <td>None</td>\n    </tr>\n    <tr>\n      <th>3</th>\n      <td>50.48</td>\n      <td>0.6</td>\n      <td>7</td>\n      <td>85620.72</td>\n      <td>50278.41</td>\n      <td>None</td>\n    </tr>\n    <tr>\n      <th>4</th>\n      <td>51.08</td>\n      <td>0.7</td>\n      <td>6</td>\n      <td>85620.72</td>\n      <td>50278.41</td>\n      <td>None</td>\n    </tr>\n    <tr>\n      <th>5</th>\n      <td>51.78</td>\n      <td>1.1</td>\n      <td>5</td>\n      <td>85620.72</td>\n      <td>50278.41</td>\n      <td>None</td>\n    </tr>\n    <tr>\n      <th>6</th>\n      <td>52.88</td>\n      <td>1.6</td>\n      <td>4</td>\n      <td>85620.72</td>\n      <td>50278.41</td>\n      <td>None</td>\n    </tr>\n    <tr>\n      <th>7</th>\n      <td>54.48</td>\n      <td>0.6</td>\n      <td>2</td>\n      <td>85620.72</td>\n      <td>50278.41</td>\n      <td>None</td>\n    </tr>\n  </tbody>\n</table>\n</div>"
     },
     "metadata": {},
     "execution_count": 46
    }
   ],
   "source": [
    "df"
   ]
  },
  {
   "cell_type": "code",
   "execution_count": null,
   "metadata": {},
   "outputs": [],
   "source": []
  }
 ]
}