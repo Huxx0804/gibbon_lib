{
 "metadata": {
  "language_info": {
   "codemirror_mode": {
    "name": "ipython",
    "version": 3
   },
   "file_extension": ".py",
   "mimetype": "text/x-python",
   "name": "python",
   "nbconvert_exporter": "python",
   "pygments_lexer": "ipython3",
   "version": 3
  },
  "orig_nbformat": 2,
  "kernelspec": {
   "name": "python_defaultSpec_1596780590442",
   "display_name": "Python 3.7.1 64-bit ('base': conda)"
  }
 },
 "nbformat": 4,
 "nbformat_minor": 2,
 "cells": [
  {
   "cell_type": "code",
   "execution_count": 1,
   "metadata": {},
   "outputs": [],
   "source": [
    "from gibbon.maps import MapSensor, TerrainMap, TerrainTile\n",
    "import numpy as np\n",
    "import json"
   ]
  },
  {
   "cell_type": "code",
   "execution_count": 2,
   "metadata": {},
   "outputs": [],
   "source": [
    "origin = [113.256746, 23.115496]\n",
    "radius = 2000"
   ]
  },
  {
   "cell_type": "code",
   "execution_count": 3,
   "metadata": {},
   "outputs": [],
   "source": [
    "sensor = MapSensor(origin, radius)"
   ]
  },
  {
   "cell_type": "code",
   "execution_count": 4,
   "metadata": {},
   "outputs": [],
   "source": [
    "tmaps = TerrainMap(sensor)"
   ]
  },
  {
   "cell_type": "code",
   "execution_count": 6,
   "metadata": {
    "tags": []
   },
   "outputs": [],
   "source": [
    "tensor_path = r'C:\\Users\\wenhs\\Desktop\\export\\tensor.json'"
   ]
  },
  {
   "cell_type": "code",
   "execution_count": 5,
   "metadata": {},
   "outputs": [
    {
     "output_type": "error",
     "ename": "NameError",
     "evalue": "name 'tensor_path' is not defined",
     "traceback": [
      "\u001b[1;31m---------------------------------------------------------------------------\u001b[0m",
      "\u001b[1;31mNameError\u001b[0m                                 Traceback (most recent call last)",
      "\u001b[1;32m<ipython-input-5-1cc50c316954>\u001b[0m in \u001b[0;36m<module>\u001b[1;34m\u001b[0m\n\u001b[1;32m----> 1\u001b[1;33m \u001b[0mtmaps\u001b[0m\u001b[1;33m.\u001b[0m\u001b[0mload_tensor\u001b[0m\u001b[1;33m(\u001b[0m\u001b[0mtensor_path\u001b[0m\u001b[1;33m)\u001b[0m\u001b[1;33m\u001b[0m\u001b[1;33m\u001b[0m\u001b[0m\n\u001b[0m",
      "\u001b[1;31mNameError\u001b[0m: name 'tensor_path' is not defined"
     ]
    }
   ],
   "source": [
    "tmaps.load_tensor(tensor_path)"
   ]
  },
  {
   "cell_type": "code",
   "execution_count": 7,
   "metadata": {
    "tags": []
   },
   "outputs": [
    {
     "output_type": "stream",
     "name": "stdout",
     "text": "HTTPSConnectionPool(host='api.mapbox.com', port=443): Max retries exceeded with url: /v4/mapbox.terrain-rgb/17/106770/56884@2x.png?access_token=sk.eyJ1IjoidmN0Y24iLCJhIjoiY2sxaDc4ZGllMGF0dTNpanlvOXdjNmVrNCJ9.ImJfE6k-f0aMzJj6vSHEYg (Caused by SSLError(SSLError(\"bad handshake: SysCallError(-1, 'Unexpected EOF')\")))\n- connection exceeded limit at thread_count= 21\nHTTPSConnectionPool(host='api.mapbox.com', port=443): Max retries exceeded with url: /v4/mapbox.terrain-rgb/17/106770/56883@2x.png?access_token=sk.eyJ1IjoidmN0Y24iLCJhIjoiY2sxaDc4ZGllMGF0dTNpanlvOXdjNmVrNCJ9.ImJfE6k-f0aMzJj6vSHEYg (Caused by SSLError(SSLError(\"bad handshake: SysCallError(-1, 'Unexpected EOF')\")))\n- connection exceeded limit at thread_count= 21\nHTTPSConnectionPool(host='api.mapbox.com', port=443): Max retries exceeded with url: /v4/mapbox.terrain-rgb/17/106768/56880@2x.png?access_token=sk.eyJ1IjoidmN0Y24iLCJhIjoiY2sxaDc4ZGllMGF0dTNpanlvOXdjNmVrNCJ9.ImJfE6k-f0aMzJj6vSHEYg (Caused by SSLError(SSLError(\"bad handshake: SysCallError(-1, 'Unexpected EOF')\")))\n- connection exceeded limit at thread_count= 21\nHTTPSConnectionPool(host='api.mapbox.com', port=443): Max retries exceeded with url: /v4/mapbox.terrain-rgb/17/106769/56878@2x.png?access_token=sk.eyJ1IjoidmN0Y24iLCJhIjoiY2sxaDc4ZGllMGF0dTNpanlvOXdjNmVrNCJ9.ImJfE6k-f0aMzJj6vSHEYg (Caused by SSLError(SSLError(\"bad handshake: SysCallError(-1, 'Unexpected EOF')\")))HTTPSConnectionPool(host='api.mapbox.com', port=443): Max retries exceeded with url: /v4/mapbox.terrain-rgb/17/106769/56881@2x.png?access_token=sk.eyJ1IjoidmN0Y24iLCJhIjoiY2sxaDc4ZGllMGF0dTNpanlvOXdjNmVrNCJ9.ImJfE6k-f0aMzJj6vSHEYg (Caused by SSLError(SSLError(\"bad handshake: SysCallError(-1, 'Unexpected EOF')\")))HTTPSConnectionPool(host='api.mapbox.com', port=443): Max retries exceeded with url: /v4/mapbox.terrain-rgb/17/106768/56883@2x.png?access_token=sk.eyJ1IjoidmN0Y24iLCJhIjoiY2sxaDc4ZGllMGF0dTNpanlvOXdjNmVrNCJ9.ImJfE6k-f0aMzJj6vSHEYg (Caused by SSLError(SSLError(\"bad handshake: SysCallError(-1, 'Unexpected EOF')\")))\n- connection exceeded limit at thread_count= 21\n\n- connection exceeded limit at thread_count= 21\n\n- connection exceeded limit at thread_count= 21\n[106770, 56879, 17] >>> Finished[106769, 56879, 17] >>> Finished\n\n[106770, 56882, 17] >>> Finished\nHTTPSConnectionPool(host='api.mapbox.com', port=443): Max retries exceeded with url: /v4/mapbox.terrain-rgb/17/106770/56883@2x.png?access_token=sk.eyJ1IjoidmN0Y24iLCJhIjoiY2sxaDc4ZGllMGF0dTNpanlvOXdjNmVrNCJ9.ImJfE6k-f0aMzJj6vSHEYg (Caused by ProxyError('Cannot connect to proxy.', OSError(\"(10053, 'WSAECONNABORTED')\")))\n- connection exceeded limit at thread_count= 21\n[106768, 56881, 17] >>> Finished\n[106768, 56882, 17] >>> Finished\n[106769, 56880, 17] >>> Finished\n[106769, 56884, 17] >>> Finished\n[106768, 56878, 17] >>> Finished\n[106770, 56878, 17] >>> Finished\n[106769, 56883, 17] >>> Finished\n[106770, 56884, 17] >>> Finished\n[106769, 56882, 17] >>> Finished\nHTTPSConnectionPool(host='api.mapbox.com', port=443): Max retries exceeded with url: /v4/mapbox.terrain-rgb/17/106768/56883@2x.png?access_token=sk.eyJ1IjoidmN0Y24iLCJhIjoiY2sxaDc4ZGllMGF0dTNpanlvOXdjNmVrNCJ9.ImJfE6k-f0aMzJj6vSHEYg (Caused by SSLError(SSLError(\"bad handshake: SysCallError(-1, 'Unexpected EOF')\")))HTTPSConnectionPool(host='api.mapbox.com', port=443): Max retries exceeded with url: /v4/mapbox.terrain-rgb/17/106771/56880@2x.png?access_token=sk.eyJ1IjoidmN0Y24iLCJhIjoiY2sxaDc4ZGllMGF0dTNpanlvOXdjNmVrNCJ9.ImJfE6k-f0aMzJj6vSHEYg (Caused by SSLError(SSLError(\"bad handshake: SysCallError(-1, 'Unexpected EOF')\")))\n\n- connection exceeded limit at thread_count= 21\n- connection exceeded limit at thread_count= 21\nHTTPSConnectionPool(host='api.mapbox.com', port=443): Max retries exceeded with url: /v4/mapbox.terrain-rgb/17/106768/56880@2x.png?access_token=sk.eyJ1IjoidmN0Y24iLCJhIjoiY2sxaDc4ZGllMGF0dTNpanlvOXdjNmVrNCJ9.ImJfE6k-f0aMzJj6vSHEYg (Caused by ProxyError('Cannot connect to proxy.', RemoteDisconnected('Remote end closed connection without response')))\n- connection exceeded limit at thread_count= 21\n[106768, 56879, 17] >>> Finished[106768, 56884, 17] >>> Finished\n\n[106769, 56881, 17] >>> Finished[106770, 56880, 17] >>> Finished\n\n[106770, 56881, 17] >>> Finished\nHTTPSConnectionPool(host='api.mapbox.com', port=443): Max retries exceeded with url: /v4/mapbox.terrain-rgb/17/106774/56881@2x.png?access_token=sk.eyJ1IjoidmN0Y24iLCJhIjoiY2sxaDc4ZGllMGF0dTNpanlvOXdjNmVrNCJ9.ImJfE6k-f0aMzJj6vSHEYg (Caused by SSLError(SSLError(\"bad handshake: SysCallError(-1, 'Unexpected EOF')\")))\n- connection exceeded limit at thread_count= 21\nHTTPSConnectionPool(host='api.mapbox.com', port=443): Max retries exceeded with url: /v4/mapbox.terrain-rgb/17/106773/56884@2x.png?access_token=sk.eyJ1IjoidmN0Y24iLCJhIjoiY2sxaDc4ZGllMGF0dTNpanlvOXdjNmVrNCJ9.ImJfE6k-f0aMzJj6vSHEYg (Caused by SSLError(SSLError(\"bad handshake: SysCallError(-1, 'Unexpected EOF')\")))\n- connection exceeded limit at thread_count= 21\nHTTPSConnectionPool(host='api.mapbox.com', port=443): Max retries exceeded with url: /v4/mapbox.terrain-rgb/17/106771/56880@2x.png?access_token=sk.eyJ1IjoidmN0Y24iLCJhIjoiY2sxaDc4ZGllMGF0dTNpanlvOXdjNmVrNCJ9.ImJfE6k-f0aMzJj6vSHEYg (Caused by SSLError(SSLError(\"bad handshake: SysCallError(-1, 'Unexpected EOF')\")))HTTPSConnectionPool(host='api.mapbox.com', port=443): Max retries exceeded with url: /v4/mapbox.terrain-rgb/17/106773/56880@2x.png?access_token=sk.eyJ1IjoidmN0Y24iLCJhIjoiY2sxaDc4ZGllMGF0dTNpanlvOXdjNmVrNCJ9.ImJfE6k-f0aMzJj6vSHEYg (Caused by SSLError(SSLError(\"bad handshake: SysCallError(-1, 'Unexpected EOF')\")))\n- connection exceeded limit at thread_count= 21\n\n- connection exceeded limit at thread_count= 21\nHTTPSConnectionPool(host='api.mapbox.com', port=443): Max retries exceeded with url: /v4/mapbox.terrain-rgb/17/106768/56880@2x.png?access_token=sk.eyJ1IjoidmN0Y24iLCJhIjoiY2sxaDc4ZGllMGF0dTNpanlvOXdjNmVrNCJ9.ImJfE6k-f0aMzJj6vSHEYg (Caused by SSLError(SSLError(\"bad handshake: SysCallError(-1, 'Unexpected EOF')\")))HTTPSConnectionPool(host='api.mapbox.com', port=443): Max retries exceeded with url: /v4/mapbox.terrain-rgb/17/106773/56878@2x.png?access_token=sk.eyJ1IjoidmN0Y24iLCJhIjoiY2sxaDc4ZGllMGF0dTNpanlvOXdjNmVrNCJ9.ImJfE6k-f0aMzJj6vSHEYg (Caused by SSLError(SSLError(\"bad handshake: SysCallError(-1, 'Unexpected EOF')\")))\n- connection exceeded limit at thread_count=\n- connection exceeded limit at thread_count= 21\n 21\nHTTPSConnectionPool(host='api.mapbox.com', port=443): Max retries exceeded with url: /v4/mapbox.terrain-rgb/17/106772/56879@2x.png?access_token=sk.eyJ1IjoidmN0Y24iLCJhIjoiY2sxaDc4ZGllMGF0dTNpanlvOXdjNmVrNCJ9.ImJfE6k-f0aMzJj6vSHEYg (Caused by SSLError(SSLError(\"bad handshake: SysCallError(-1, 'Unexpected EOF')\")))\n- connection exceeded limit at thread_count= 21\n[106769, 56878, 17] >>> Finished\n[106774, 56878, 17] >>> Finished\n[106772, 56882, 17] >>> Finished\n[106771, 56882, 17] >>> Finished\n[106773, 56881, 17] >>> Finished\n[106772, 56884, 17] >>> Finished\n[106772, 56883, 17] >>> Finished\n[106768, 56880, 17] >>> Finished\n[106771, 56884, 17] >>> Finished\n[106770, 56883, 17] >>> Finished\n[106772, 56878, 17] >>> Finished\n[106774, 56880, 17] >>> Finished\n[106773, 56882, 17] >>> Finished\n[106771, 56879, 17] >>> Finished\nHTTPSConnectionPool(host='api.mapbox.com', port=443): Max retries exceeded with url: /v4/mapbox.terrain-rgb/17/106774/56881@2x.png?access_token=sk.eyJ1IjoidmN0Y24iLCJhIjoiY2sxaDc4ZGllMGF0dTNpanlvOXdjNmVrNCJ9.ImJfE6k-f0aMzJj6vSHEYg (Caused by SSLError(SSLError(\"bad handshake: SysCallError(-1, 'Unexpected EOF')\")))\n- connection exceeded limit at thread_count= 18\nHTTPSConnectionPool(host='api.mapbox.com', port=443): Max retries exceeded with url: /v4/mapbox.terrain-rgb/17/106773/56879@2x.png?access_token=sk.eyJ1IjoidmN0Y24iLCJhIjoiY2sxaDc4ZGllMGF0dTNpanlvOXdjNmVrNCJ9.ImJfE6k-f0aMzJj6vSHEYg (Caused by ProxyError('Cannot connect to proxy.', RemoteDisconnected('Remote end closed connection without response')))\n- connection exceeded limit at thread_count= 18\n[106771, 56883, 17] >>> Finished\n[106773, 56884, 17] >>> Finished\n[106772, 56880, 17] >>> Finished[106773, 56878, 17] >>> Finished\n\n[106774, 56882, 17] >>> Finished\n[106774, 56881, 17] >>> Finished\n[106774, 56884, 17] >>> Finished[106768, 56883, 17] >>> Finished\n\n[106771, 56881, 17] >>> Finished[106774, 56883, 17] >>> Finished\n\n[106771, 56878, 17] >>> Finished\n[106772, 56879, 17] >>> Finished\n[106773, 56880, 17] >>> Finished\n[106771, 56880, 17] >>> Finished\n[106773, 56883, 17] >>> Finished\n[106772, 56881, 17] >>> Finished\n[106774, 56879, 17] >>> Finished\n[106773, 56879, 17] >>> Finished\nFinished >>> 49 tiles\n"
    }
   ],
   "source": [
    "tmaps.create_tiles()"
   ]
  },
  {
   "cell_type": "code",
   "execution_count": 8,
   "metadata": {},
   "outputs": [],
   "source": [
    "mesh_path = r'C:\\Users\\wenhs\\Desktop\\export\\mesh.json'"
   ]
  },
  {
   "cell_type": "code",
   "execution_count": 9,
   "metadata": {},
   "outputs": [],
   "source": [
    "tmaps.dump_mesh(mesh_path)"
   ]
  },
  {
   "cell_type": "code",
   "execution_count": 10,
   "metadata": {},
   "outputs": [],
   "source": [
    "tmaps.dump_tensor(tensor_path)"
   ]
  },
  {
   "cell_type": "code",
   "execution_count": 10,
   "metadata": {},
   "outputs": [
    {
     "output_type": "execute_result",
     "data": {
      "text/plain": "81"
     },
     "metadata": {},
     "execution_count": 10
    }
   ],
   "source": [
    "len(tmaps._tiles[0][0].faces)"
   ]
  },
  {
   "cell_type": "code",
   "execution_count": 12,
   "metadata": {},
   "outputs": [
    {
     "output_type": "execute_result",
     "data": {
      "text/plain": "array([[<gibbon.maps._terrain_tile.TerrainTile object at 0x00000223D6D4D438>,\n        <gibbon.maps._terrain_tile.TerrainTile object at 0x00000223D6D36240>,\n        <gibbon.maps._terrain_tile.TerrainTile object at 0x00000223D6D36588>,\n        <gibbon.maps._terrain_tile.TerrainTile object at 0x00000223D6D36860>,\n        <gibbon.maps._terrain_tile.TerrainTile object at 0x00000223D653EA20>,\n        <gibbon.maps._terrain_tile.TerrainTile object at 0x00000223D653EAC8>,\n        <gibbon.maps._terrain_tile.TerrainTile object at 0x00000223D653E0B8>],\n       [<gibbon.maps._terrain_tile.TerrainTile object at 0x00000223D6D4DA90>,\n        <gibbon.maps._terrain_tile.TerrainTile object at 0x00000223D6D36550>,\n        <gibbon.maps._terrain_tile.TerrainTile object at 0x00000223D6D36B38>,\n        <gibbon.maps._terrain_tile.TerrainTile object at 0x00000223D6D36FD0>,\n        <gibbon.maps._terrain_tile.TerrainTile object at 0x00000223D653EC18>,\n        <gibbon.maps._terrain_tile.TerrainTile object at 0x00000223D653ED68>,\n        <gibbon.maps._terrain_tile.TerrainTile object at 0x00000223D653E438>],\n       [<gibbon.maps._terrain_tile.TerrainTile object at 0x00000223D6D4D9E8>,\n        <gibbon.maps._terrain_tile.TerrainTile object at 0x00000223D6D36080>,\n        <gibbon.maps._terrain_tile.TerrainTile object at 0x00000223D6D36D30>,\n        <gibbon.maps._terrain_tile.TerrainTile object at 0x00000223D6D36438>,\n        <gibbon.maps._terrain_tile.TerrainTile object at 0x00000223D653E358>,\n        <gibbon.maps._terrain_tile.TerrainTile object at 0x00000223D653EEB8>,\n        <gibbon.maps._terrain_tile.TerrainTile object at 0x00000223D653E6A0>],\n       [<gibbon.maps._terrain_tile.TerrainTile object at 0x00000223D6D4D400>,\n        <gibbon.maps._terrain_tile.TerrainTile object at 0x00000223D6D36748>,\n        <gibbon.maps._terrain_tile.TerrainTile object at 0x00000223D6D36828>,\n        <gibbon.maps._terrain_tile.TerrainTile object at 0x00000223D6D364E0>,\n        <gibbon.maps._terrain_tile.TerrainTile object at 0x00000223D653E780>,\n        <gibbon.maps._terrain_tile.TerrainTile object at 0x00000223D653EE48>,\n        <gibbon.maps._terrain_tile.TerrainTile object at 0x00000223D653E198>],\n       [<gibbon.maps._terrain_tile.TerrainTile object at 0x00000223D6D4DF98>,\n        <gibbon.maps._terrain_tile.TerrainTile object at 0x00000223D6D367B8>,\n        <gibbon.maps._terrain_tile.TerrainTile object at 0x00000223D6D36278>,\n        <gibbon.maps._terrain_tile.TerrainTile object at 0x00000223D6D36AC8>,\n        <gibbon.maps._terrain_tile.TerrainTile object at 0x00000223D653E860>,\n        <gibbon.maps._terrain_tile.TerrainTile object at 0x00000223D653EFD0>,\n        <gibbon.maps._terrain_tile.TerrainTile object at 0x00000223D653ED30>],\n       [<gibbon.maps._terrain_tile.TerrainTile object at 0x00000223D56C6550>,\n        <gibbon.maps._terrain_tile.TerrainTile object at 0x00000223D6D4D390>,\n        <gibbon.maps._terrain_tile.TerrainTile object at 0x00000223D6D36A20>,\n        <gibbon.maps._terrain_tile.TerrainTile object at 0x00000223D6D36B70>,\n        <gibbon.maps._terrain_tile.TerrainTile object at 0x00000223D653E5F8>,\n        <gibbon.maps._terrain_tile.TerrainTile object at 0x00000223D653E940>,\n        <gibbon.maps._terrain_tile.TerrainTile object at 0x00000223D653ECC0>],\n       [<gibbon.maps._terrain_tile.TerrainTile object at 0x00000223D2CDED68>,\n        <gibbon.maps._terrain_tile.TerrainTile object at 0x00000223D6D4DA58>,\n        <gibbon.maps._terrain_tile.TerrainTile object at 0x00000223D6D361D0>,\n        <gibbon.maps._terrain_tile.TerrainTile object at 0x00000223D6D36F60>,\n        <gibbon.maps._terrain_tile.TerrainTile object at 0x00000223D653E278>,\n        <gibbon.maps._terrain_tile.TerrainTile object at 0x00000223D653EB00>,\n        <gibbon.maps._terrain_tile.TerrainTile object at 0x00000223D653EF28>]],\n      dtype=object)"
     },
     "metadata": {},
     "execution_count": 12
    }
   ],
   "source": [
    "np.rot90(tmaps._tiles)"
   ]
  },
  {
   "cell_type": "code",
   "execution_count": 4,
   "metadata": {},
   "outputs": [],
   "source": [
    "single_path = r'C:\\Users\\wenhs\\Desktop\\export\\single.json'"
   ]
  },
  {
   "cell_type": "code",
   "execution_count": 5,
   "metadata": {},
   "outputs": [],
   "source": [
    "with open(single_path, 'r', encoding='utf-8') as f:\n",
    "    data = json.load(f)"
   ]
  },
  {
   "cell_type": "code",
   "execution_count": 6,
   "metadata": {},
   "outputs": [],
   "source": [
    "index = list(eval(list(data.keys())[0]))"
   ]
  },
  {
   "cell_type": "code",
   "execution_count": 7,
   "metadata": {},
   "outputs": [],
   "source": [
    "center = sensor.center_index"
   ]
  },
  {
   "cell_type": "code",
   "execution_count": 8,
   "metadata": {},
   "outputs": [
    {
     "output_type": "execute_result",
     "data": {
      "text/plain": "[106677, 54786, 17]"
     },
     "metadata": {},
     "execution_count": 8
    }
   ],
   "source": [
    "index"
   ]
  },
  {
   "cell_type": "code",
   "execution_count": 8,
   "metadata": {},
   "outputs": [],
   "source": [
    "matrix = list(data.values())[0]"
   ]
  },
  {
   "cell_type": "code",
   "execution_count": null,
   "metadata": {},
   "outputs": [],
   "source": []
  },
  {
   "cell_type": "code",
   "execution_count": 9,
   "metadata": {
    "tags": []
   },
   "outputs": [
    {
     "output_type": "stream",
     "name": "stdout",
     "text": "self._vertices_indices = [[[  0   0]\n  [  0  56]\n  [  0 113]\n  [  0 170]\n  [  0 227]\n  [  0 283]\n  [  0 340]\n  [  0 397]\n  [  0 454]\n  [  0 511]]\n\n [[ 56   0]\n  [ 56  56]\n  [ 56 113]\n  [ 56 170]\n  [ 56 227]\n  [ 56 283]\n  [ 56 340]\n  [ 56 397]\n  [ 56 454]\n  [ 56 511]]\n\n [[113   0]\n  [113  56]\n  [113 113]\n  [113 170]\n  [113 227]\n  [113 283]\n  [113 340]\n  [113 397]\n  [113 454]\n  [113 511]]\n\n [[170   0]\n  [170  56]\n  [170 113]\n  [170 170]\n  [170 227]\n  [170 283]\n  [170 340]\n  [170 397]\n  [170 454]\n  [170 511]]\n\n [[227   0]\n  [227  56]\n  [227 113]\n  [227 170]\n  [227 227]\n  [227 283]\n  [227 340]\n  [227 397]\n  [227 454]\n  [227 511]]\n\n [[283   0]\n  [283  56]\n  [283 113]\n  [283 170]\n  [283 227]\n  [283 283]\n  [283 340]\n  [283 397]\n  [283 454]\n  [283 511]]\n\n [[340   0]\n  [340  56]\n  [340 113]\n  [340 170]\n  [340 227]\n  [340 283]\n  [340 340]\n  [340 397]\n  [340 454]\n  [340 511]]\n\n [[397   0]\n  [397  56]\n  [397 113]\n  [397 170]\n  [397 227]\n  [397 283]\n  [397 340]\n  [397 397]\n  [397 454]\n  [397 511]]\n\n [[454   0]\n  [454  56]\n  [454 113]\n  [454 170]\n  [454 227]\n  [454 283]\n  [454 340]\n  [454 397]\n  [454 454]\n  [454 511]]\n\n [[511   0]\n  [511  56]\n  [511 113]\n  [511 170]\n  [511 227]\n  [511 283]\n  [511 340]\n  [511 397]\n  [511 454]\n  [511 511]]]\nself._heights = [[31800. 31800. 31800. ... 42600. 42600. 42600.]\n [31800. 31800. 31800. ... 42600. 42600. 42600.]\n [31800. 31800. 31800. ... 42600. 42600. 42600.]\n ...\n [32400. 32400. 32400. ... 45300. 45300. 45300.]\n [32400. 32400. 32400. ... 45300. 45300. 45300.]\n [32400. 32400. 32400. ... 45300. 45300. 45300.]]\nself._faces = [[ 0 10 11  1]\n [ 1 11 12  2]\n [ 2 12 13  3]\n [ 3 13 14  4]\n [ 4 14 15  5]\n [ 5 15 16  6]\n [ 6 16 17  7]\n [ 7 17 18  8]\n [ 8 18 19  9]\n [10 20 21 11]\n [11 21 22 12]\n [12 22 23 13]\n [13 23 24 14]\n [14 24 25 15]\n [15 25 26 16]\n [16 26 27 17]\n [17 27 28 18]\n [18 28 29 19]\n [20 30 31 21]\n [21 31 32 22]\n [22 32 33 23]\n [23 33 34 24]\n [24 34 35 25]\n [25 35 36 26]\n [26 36 37 27]\n [27 37 38 28]\n [28 38 39 29]\n [30 40 41 31]\n [31 41 42 32]\n [32 42 43 33]\n [33 43 44 34]\n [34 44 45 35]\n [35 45 46 36]\n [36 46 47 37]\n [37 47 48 38]\n [38 48 49 39]\n [40 50 51 41]\n [41 51 52 42]\n [42 52 53 43]\n [43 53 54 44]\n [44 54 55 45]\n [45 55 56 46]\n [46 56 57 47]\n [47 57 58 48]\n [48 58 59 49]\n [50 60 61 51]\n [51 61 62 52]\n [52 62 63 53]\n [53 63 64 54]\n [54 64 65 55]\n [55 65 66 56]\n [56 66 67 57]\n [57 67 68 58]\n [58 68 69 59]\n [60 70 71 61]\n [61 71 72 62]\n [62 72 73 63]\n [63 73 74 64]\n [64 74 75 65]\n [65 75 76 66]\n [66 76 77 67]\n [67 77 78 68]\n [68 78 79 69]\n [70 80 81 71]\n [71 81 82 72]\n [72 82 83 73]\n [73 83 84 74]\n [74 84 85 75]\n [75 85 86 76]\n [76 86 87 77]\n [77 87 88 78]\n [78 88 89 79]\n [80 90 91 81]\n [81 91 92 82]\n [82 92 93 83]\n [83 93 94 84]\n [84 94 95 85]\n [85 95 96 86]\n [86 96 97 87]\n [87 97 98 88]\n [88 98 99 89]]\ncoords = [[[ 746455.34515381 -447873.20709229]\n  [ 746455.34515381 -415151.87689376]\n  [ 746455.34515381 -381846.23722741]\n  [ 746455.34515381 -348540.59756105]\n  [ 746455.34515381 -315234.9578947 ]\n  [ 746455.34515381 -282513.62769618]\n  [ 746455.34515381 -249207.98802982]\n  [ 746455.34515381 -215902.34836347]\n  [ 746455.34515381 -182596.70869712]\n  [ 746455.34515381 -149291.06903076]]\n\n [[ 779176.67535233 -447873.20709229]\n  [ 779176.67535233 -415151.87689376]\n  [ 779176.67535233 -381846.23722741]\n  [ 779176.67535233 -348540.59756105]\n  [ 779176.67535233 -315234.9578947 ]\n  [ 779176.67535233 -282513.62769618]\n  [ 779176.67535233 -249207.98802982]\n  [ 779176.67535233 -215902.34836347]\n  [ 779176.67535233 -182596.70869712]\n  [ 779176.67535233 -149291.06903076]]\n\n [[ 812482.31501869 -447873.20709229]\n  [ 812482.31501869 -415151.87689376]\n  [ 812482.31501869 -381846.23722741]\n  [ 812482.31501869 -348540.59756105]\n  [ 812482.31501869 -315234.9578947 ]\n  [ 812482.31501869 -282513.62769618]\n  [ 812482.31501869 -249207.98802982]\n  [ 812482.31501869 -215902.34836347]\n  [ 812482.31501869 -182596.70869712]\n  [ 812482.31501869 -149291.06903076]]\n\n [[ 845787.95468504 -447873.20709229]\n  [ 845787.95468504 -415151.87689376]\n  [ 845787.95468504 -381846.23722741]\n  [ 845787.95468504 -348540.59756105]\n  [ 845787.95468504 -315234.9578947 ]\n  [ 845787.95468504 -282513.62769618]\n  [ 845787.95468504 -249207.98802982]\n  [ 845787.95468504 -215902.34836347]\n  [ 845787.95468504 -182596.70869712]\n  [ 845787.95468504 -149291.06903076]]\n\n [[ 879093.59435139 -447873.20709229]\n  [ 879093.59435139 -415151.87689376]\n  [ 879093.59435139 -381846.23722741]\n  [ 879093.59435139 -348540.59756105]\n  [ 879093.59435139 -315234.9578947 ]\n  [ 879093.59435139 -282513.62769618]\n  [ 879093.59435139 -249207.98802982]\n  [ 879093.59435139 -215902.34836347]\n  [ 879093.59435139 -182596.70869712]\n  [ 879093.59435139 -149291.06903076]]\n\n [[ 911814.92454992 -447873.20709229]\n  [ 911814.92454992 -415151.87689376]\n  [ 911814.92454992 -381846.23722741]\n  [ 911814.92454992 -348540.59756105]\n  [ 911814.92454992 -315234.9578947 ]\n  [ 911814.92454992 -282513.62769618]\n  [ 911814.92454992 -249207.98802982]\n  [ 911814.92454992 -215902.34836347]\n  [ 911814.92454992 -182596.70869712]\n  [ 911814.92454992 -149291.06903076]]\n\n [[ 945120.56421627 -447873.20709229]\n  [ 945120.56421627 -415151.87689376]\n  [ 945120.56421627 -381846.23722741]\n  [ 945120.56421627 -348540.59756105]\n  [ 945120.56421627 -315234.9578947 ]\n  [ 945120.56421627 -282513.62769618]\n  [ 945120.56421627 -249207.98802982]\n  [ 945120.56421627 -215902.34836347]\n  [ 945120.56421627 -182596.70869712]\n  [ 945120.56421627 -149291.06903076]]\n\n [[ 978426.20388262 -447873.20709229]\n  [ 978426.20388262 -415151.87689376]\n  [ 978426.20388262 -381846.23722741]\n  [ 978426.20388262 -348540.59756105]\n  [ 978426.20388262 -315234.9578947 ]\n  [ 978426.20388262 -282513.62769618]\n  [ 978426.20388262 -249207.98802982]\n  [ 978426.20388262 -215902.34836347]\n  [ 978426.20388262 -182596.70869712]\n  [ 978426.20388262 -149291.06903076]]\n\n [[1011731.84354898 -447873.20709229]\n  [1011731.84354898 -415151.87689376]\n  [1011731.84354898 -381846.23722741]\n  [1011731.84354898 -348540.59756105]\n  [1011731.84354898 -315234.9578947 ]\n  [1011731.84354898 -282513.62769618]\n  [1011731.84354898 -249207.98802982]\n  [1011731.84354898 -215902.34836347]\n  [1011731.84354898 -182596.70869712]\n  [1011731.84354898 -149291.06903076]]\n\n [[1045037.48321533 -447873.20709229]\n  [1045037.48321533 -415151.87689376]\n  [1045037.48321533 -381846.23722741]\n  [1045037.48321533 -348540.59756105]\n  [1045037.48321533 -315234.9578947 ]\n  [1045037.48321533 -282513.62769618]\n  [1045037.48321533 -249207.98802982]\n  [1045037.48321533 -215902.34836347]\n  [1045037.48321533 -182596.70869712]\n  [1045037.48321533 -149291.06903076]]]\nself._heights = [[31800. 31800. 31800. ... 42600. 42600. 42600.]\n [31800. 31800. 31800. ... 42600. 42600. 42600.]\n [31800. 31800. 31800. ... 42600. 42600. 42600.]\n ...\n [32400. 32400. 32400. ... 45300. 45300. 45300.]\n [32400. 32400. 32400. ... 45300. 45300. 45300.]\n [32400. 32400. 32400. ... 45300. 45300. 45300.]]\ncoords.T[0] = (10, 10), coords.T[1] = (10, 10), self._heights = (512, 512)\n"
    }
   ],
   "source": [
    "sin = TerrainTile(center, index, matrix)"
   ]
  },
  {
   "cell_type": "code",
   "execution_count": 10,
   "metadata": {},
   "outputs": [
    {
     "output_type": "execute_result",
     "data": {
      "text/plain": "{'tp': 'mesh',\n 'v': [[[746455.3451538086, -447873.20709228516, 31800.00000000109],\n   [779176.6753523317, -447873.20709228516, 31500.0],\n   [812482.3150186855, -447873.20709228516, 32600.000000000364],\n   [845787.9546850395, -447873.20709228516, 33700.00000000073],\n   [879093.5943513934, -447873.20709228516, 33300.00000000109],\n   [911814.9245499165, -447873.20709228516, 32300.00000000109],\n   [945120.5642162703, -447873.20709228516, 32200.000000000728],\n   [978426.2038826243, -447873.20709228516, 32900.000000001455],\n   [1011731.8435489782, -447873.20709228516, 32800.00000000109],\n   [1045037.483215332, -447873.20709228516, 32400.000000001455]],\n  [[746455.3451538086, -415151.87689376203, 34300.00000000109],\n   [779176.6753523317, -415151.87689376203, 35200.00000000073],\n   [812482.3150186855, -415151.87689376203, 36400.000000001455],\n   [845787.9546850395, -415151.87689376203, 36200.00000000073],\n   [879093.5943513934, -415151.87689376203, 34600.000000000364],\n   [911814.9245499165, -415151.87689376203, 33300.00000000109],\n   [945120.5642162703, -415151.87689376203, 33100.000000000364],\n   [978426.2038826243, -415151.87689376203, 33200.00000000073],\n   [1011731.8435489782, -415151.87689376203, 32500.0],\n   [1045037.483215332, -415151.87689376203, 32300.00000000109]],\n  [[746455.3451538086, -381846.23722740816, 38500.0],\n   [779176.6753523317, -381846.23722740816, 40500.0],\n   [812482.3150186855, -381846.23722740816, 40600.000000000364],\n   [845787.9546850395, -381846.23722740816, 38700.00000000073],\n   [879093.5943513934, -381846.23722740816, 36700.00000000073],\n   [911814.9245499165, -381846.23722740816, 36200.00000000073],\n   [945120.5642162703, -381846.23722740816, 35500.0],\n   [978426.2038826243, -381846.23722740816, 34600.000000000364],\n   [1011731.8435489782, -381846.23722740816, 33300.00000000109],\n   [1045037.483215332, -381846.23722740816, 32800.00000000109]],\n  [[746455.3451538086, -348540.5975610543, 42900.000000001455],\n   [779176.6753523317, -348540.5975610543, 46000.0],\n   [812482.3150186855, -348540.5975610543, 45400.000000001455],\n   [845787.9546850395, -348540.5975610543, 42500.0],\n   [879093.5943513934, -348540.5975610543, 40500.0],\n   [911814.9245499165, -348540.5975610543, 39800.00000000109],\n   [945120.5642162703, -348540.5975610543, 38400.000000001455],\n   [978426.2038826243, -348540.5975610543, 36700.00000000073],\n   [1011731.8435489782, -348540.5975610543, 35600.000000000364],\n   [1045037.483215332, -348540.5975610543, 35600.000000000364]],\n  [[746455.3451538086, -315234.95789470035, 46600.000000000364],\n   [779176.6753523317, -315234.95789470035, 50900.000000001455],\n   [812482.3150186855, -315234.95789470035, 50200.00000000073],\n   [845787.9546850395, -315234.95789470035, 47100.000000000364],\n   [879093.5943513934, -315234.95789470035, 44800.00000000109],\n   [911814.9245499165, -315234.95789470035, 42900.000000001455],\n   [945120.5642162703, -315234.95789470035, 40600.000000000364],\n   [978426.2038826243, -315234.95789470035, 38400.000000001455],\n   [1011731.8435489782, -315234.95789470035, 38300.00000000109],\n   [1045037.483215332, -315234.95789470035, 39000.0]],\n  [[746455.3451538086, -282513.6276961773, 49200.00000000073],\n   [779176.6753523317, -282513.6276961773, 54300.00000000109],\n   [812482.3150186855, -282513.6276961773, 53500.0],\n   [845787.9546850395, -282513.6276961773, 49900.000000001455],\n   [879093.5943513934, -282513.6276961773, 47300.00000000109],\n   [911814.9245499165, -282513.6276961773, 45200.00000000073],\n   [945120.5642162703, -282513.6276961773, 42600.000000000364],\n   [978426.2038826243, -282513.6276961773, 40500.0],\n   [1011731.8435489782, -282513.6276961773, 41300.00000000109],\n   [1045037.483215332, -282513.6276961773, 42000.0]],\n  [[746455.3451538086, -249207.98802982338, 49300.00000000109],\n   [779176.6753523317, -249207.98802982338, 54400.000000001455],\n   [812482.3150186855, -249207.98802982338, 54000.0],\n   [845787.9546850395, -249207.98802982338, 50800.00000000109],\n   [879093.5943513934, -249207.98802982338, 48200.00000000073],\n   [911814.9245499165, -249207.98802982338, 46500.0],\n   [945120.5642162703, -249207.98802982338, 44600.000000000364],\n   [978426.2038826243, -249207.98802982338, 42600.000000000364],\n   [1011731.8435489782, -249207.98802982338, 43800.00000000109],\n   [1045037.483215332, -249207.98802982338, 44000.0]],\n  [[746455.3451538086, -215902.3483634695, 46600.000000000364],\n   [779176.6753523317, -215902.3483634695, 51000.0],\n   [812482.3150186855, -215902.3483634695, 51300.00000000109],\n   [845787.9546850395, -215902.3483634695, 49500.0],\n   [879093.5943513934, -215902.3483634695, 47800.00000000109],\n   [911814.9245499165, -215902.3483634695, 46400.000000001455],\n   [945120.5642162703, -215902.3483634695, 45300.00000000109],\n   [978426.2038826243, -215902.3483634695, 44300.00000000109],\n   [1011731.8435489782, -215902.3483634695, 45200.00000000073],\n   [1045037.483215332, -215902.3483634695, 45200.00000000073]],\n  [[746455.3451538086, -182596.7086971156, 43900.000000001455],\n   [779176.6753523317, -182596.7086971156, 47300.00000000109],\n   [812482.3150186855, -182596.7086971156, 48000.0],\n   [845787.9546850395, -182596.7086971156, 47100.000000000364],\n   [879093.5943513934, -182596.7086971156, 45900.000000001455],\n   [911814.9245499165, -182596.7086971156, 44800.00000000109],\n   [945120.5642162703, -182596.7086971156, 44600.000000000364],\n   [978426.2038826243, -182596.7086971156, 44900.000000001455],\n   [1011731.8435489782, -182596.7086971156, 45400.000000001455],\n   [1045037.483215332, -182596.7086971156, 45800.00000000109]],\n  [[746455.3451538086, -149291.06903076172, 42600.000000000364],\n   [779176.6753523317, -149291.06903076172, 45500.0],\n   [812482.3150186855, -149291.06903076172, 46100.000000000364],\n   [845787.9546850395, -149291.06903076172, 45300.00000000109],\n   [879093.5943513934, -149291.06903076172, 44300.00000000109],\n   [911814.9245499165, -149291.06903076172, 43300.00000000109],\n   [945120.5642162703, -149291.06903076172, 43600.000000000364],\n   [978426.2038826243, -149291.06903076172, 44300.00000000109],\n   [1011731.8435489782, -149291.06903076172, 44000.0],\n   [1045037.483215332, -149291.06903076172, 45300.00000000109]]],\n 'f': [[0, 10, 11, 1],\n  [1, 11, 12, 2],\n  [2, 12, 13, 3],\n  [3, 13, 14, 4],\n  [4, 14, 15, 5],\n  [5, 15, 16, 6],\n  [6, 16, 17, 7],\n  [7, 17, 18, 8],\n  [8, 18, 19, 9],\n  [10, 20, 21, 11],\n  [11, 21, 22, 12],\n  [12, 22, 23, 13],\n  [13, 23, 24, 14],\n  [14, 24, 25, 15],\n  [15, 25, 26, 16],\n  [16, 26, 27, 17],\n  [17, 27, 28, 18],\n  [18, 28, 29, 19],\n  [20, 30, 31, 21],\n  [21, 31, 32, 22],\n  [22, 32, 33, 23],\n  [23, 33, 34, 24],\n  [24, 34, 35, 25],\n  [25, 35, 36, 26],\n  [26, 36, 37, 27],\n  [27, 37, 38, 28],\n  [28, 38, 39, 29],\n  [30, 40, 41, 31],\n  [31, 41, 42, 32],\n  [32, 42, 43, 33],\n  [33, 43, 44, 34],\n  [34, 44, 45, 35],\n  [35, 45, 46, 36],\n  [36, 46, 47, 37],\n  [37, 47, 48, 38],\n  [38, 48, 49, 39],\n  [40, 50, 51, 41],\n  [41, 51, 52, 42],\n  [42, 52, 53, 43],\n  [43, 53, 54, 44],\n  [44, 54, 55, 45],\n  [45, 55, 56, 46],\n  [46, 56, 57, 47],\n  [47, 57, 58, 48],\n  [48, 58, 59, 49],\n  [50, 60, 61, 51],\n  [51, 61, 62, 52],\n  [52, 62, 63, 53],\n  [53, 63, 64, 54],\n  [54, 64, 65, 55],\n  [55, 65, 66, 56],\n  [56, 66, 67, 57],\n  [57, 67, 68, 58],\n  [58, 68, 69, 59],\n  [60, 70, 71, 61],\n  [61, 71, 72, 62],\n  [62, 72, 73, 63],\n  [63, 73, 74, 64],\n  [64, 74, 75, 65],\n  [65, 75, 76, 66],\n  [66, 76, 77, 67],\n  [67, 77, 78, 68],\n  [68, 78, 79, 69],\n  [70, 80, 81, 71],\n  [71, 81, 82, 72],\n  [72, 82, 83, 73],\n  [73, 83, 84, 74],\n  [74, 84, 85, 75],\n  [75, 85, 86, 76],\n  [76, 86, 87, 77],\n  [77, 87, 88, 78],\n  [78, 88, 89, 79],\n  [80, 90, 91, 81],\n  [81, 91, 92, 82],\n  [82, 92, 93, 83],\n  [83, 93, 94, 84],\n  [84, 94, 95, 85],\n  [85, 95, 96, 86],\n  [86, 96, 97, 87],\n  [87, 97, 98, 88],\n  [88, 98, 99, 89]],\n 'c': [[255, 255, 255],\n  [255, 255, 255],\n  [255, 255, 255],\n  [255, 255, 255],\n  [255, 255, 255],\n  [255, 255, 255],\n  [255, 255, 255],\n  [255, 255, 255],\n  [255, 255, 255],\n  [255, 255, 255]]}"
     },
     "metadata": {},
     "execution_count": 10
    }
   ],
   "source": [
    "sin.mesh"
   ]
  },
  {
   "cell_type": "code",
   "execution_count": null,
   "metadata": {},
   "outputs": [],
   "source": []
  }
 ]
}