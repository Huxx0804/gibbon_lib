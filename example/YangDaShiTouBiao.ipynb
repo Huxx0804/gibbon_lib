{
 "metadata": {
  "language_info": {
   "codemirror_mode": {
    "name": "ipython",
    "version": 3
   },
   "file_extension": ".py",
   "mimetype": "text/x-python",
   "name": "python",
   "nbconvert_exporter": "python",
   "pygments_lexer": "ipython3",
   "version": 3
  },
  "orig_nbformat": 2,
  "kernelspec": {
   "name": "python_defaultSpec_1597039477598",
   "display_name": "Python 3.7.1 64-bit ('ProgramData': virtualenv)"
  }
 },
 "nbformat": 4,
 "nbformat_minor": 2,
 "cells": [
  {
   "cell_type": "code",
   "execution_count": 1,
   "metadata": {},
   "outputs": [],
   "source": [
    "from gibbon.maps import MapSensor, TerrainMap\n",
    "from gibbon.web_api import MapBox"
   ]
  },
  {
   "cell_type": "code",
   "execution_count": 2,
   "metadata": {},
   "outputs": [],
   "source": [
    "origin = [112.977040, 28.208450]\n",
    "radius = 2000\n",
    "export_path = r'C:\\Users\\wenhs\\Desktop\\ChangShaShiYiYiYuan'"
   ]
  },
  {
   "cell_type": "code",
   "execution_count": 3,
   "metadata": {},
   "outputs": [],
   "source": [
    "sensor = MapSensor(origin, radius)"
   ]
  },
  {
   "cell_type": "code",
   "execution_count": 4,
   "metadata": {},
   "outputs": [],
   "source": [
    "tmaps = TerrainMap(sensor)"
   ]
  },
  {
   "cell_type": "code",
   "execution_count": 6,
   "metadata": {
    "tags": []
   },
   "outputs": [
    {
     "output_type": "stream",
     "name": "stdout",
     "text": "[106667, 54825, 17] >>> Finished\n[106666, 54826, 17] >>> Finished\n[106668, 54826, 17] >>> Finished[106666, 54825, 17] >>> Finished\n[106668, 54825, 17] >>> Finished\n[106666, 54820, 17] >>> Finished\n\n[106667, 54824, 17] >>> Finished\n[106667, 54826, 17] >>> Finished\n[106667, 54821, 17] >>> Finished\n[106666, 54823, 17] >>> Finished\n[106666, 54822, 17] >>> Finished\n[106667, 54822, 17] >>> Finished\n[106668, 54824, 17] >>> Finished\n[106667, 54823, 17] >>> Finished\n[106668, 54821, 17] >>> Finished\n[106667, 54820, 17] >>> Finished\n[106668, 54823, 17] >>> Finished\n[106668, 54820, 17] >>> Finished\n[106668, 54822, 17] >>> Finished\n[106666, 54824, 17] >>> Finished\n[106672, 54821, 17] >>> Finished\n[106669, 54821, 17] >>> Finished\n[106671, 54824, 17] >>> Finished\n[106672, 54822, 17] >>> Finished\n[106669, 54825, 17] >>> Finished\n[106669, 54826, 17] >>> Finished\n[106672, 54825, 17] >>> Finished\n[106671, 54821, 17] >>> Finished\n[106670, 54821, 17] >>> Finished\n[106671, 54823, 17] >>> Finished\n[106670, 54825, 17] >>> Finished\n[106672, 54826, 17] >>> Finished\n[106670, 54823, 17] >>> Finished[106666, 54821, 17] >>> Finished\n[106670, 54820, 17] >>> Finished\n\n[106672, 54823, 17] >>> Finished\n[106669, 54824, 17] >>> Finished\n[106670, 54824, 17] >>> Finished\n[106671, 54825, 17] >>> Finished\n[106671, 54820, 17] >>> Finished\n[106669, 54823, 17] >>> Finished\n[106671, 54822, 17] >>> Finished\n[106670, 54822, 17] >>> Finished\n[106672, 54824, 17] >>> Finished\n[106670, 54826, 17] >>> Finished[106669, 54820, 17] >>> Finished\n\n[106672, 54820, 17] >>> Finished\n[106671, 54826, 17] >>> Finished\n[106669, 54822, 17] >>> Finished\nFinished >>> 49 tiles\n"
    }
   ],
   "source": [
    "tmaps.create()"
   ]
  },
  {
   "cell_type": "code",
   "execution_count": 7,
   "metadata": {},
   "outputs": [],
   "source": [
    "p = export_path + r'\\mesh\\terrain.json'\n",
    "tmaps.dump_mesh(p)"
   ]
  },
  {
   "cell_type": "code",
   "execution_count": 4,
   "metadata": {},
   "outputs": [],
   "source": [
    "mapbox = MapBox()"
   ]
  },
  {
   "cell_type": "code",
   "execution_count": 5,
   "metadata": {
    "tags": []
   },
   "outputs": [
    {
     "output_type": "stream",
     "name": "stdout",
     "text": "HTTPSConnectionPool(host='api.mapbox.com', port=443): Max retries exceeded with url: /v4/mapbox.satellite/17/106666/54822@2x.png?access_token=sk.eyJ1IjoidmN0Y24iLCJhIjoiY2sxaDc4ZGllMGF0dTNpanlvOXdjNmVrNCJ9.ImJfE6k-f0aMzJj6vSHEYg (Caused by SSLError(SSLError(\"bad handshake: SysCallError(-1, 'Unexpected EOF')\")))\nHTTPSConnectionPool(host='api.mapbox.com', port=443): Max retries exceeded with url: /v4/mapbox.satellite/17/106666/54826@2x.png?access_token=sk.eyJ1IjoidmN0Y24iLCJhIjoiY2sxaDc4ZGllMGF0dTNpanlvOXdjNmVrNCJ9.ImJfE6k-f0aMzJj6vSHEYg (Caused by SSLError(SSLError(\"bad handshake: SysCallError(-1, 'Unexpected EOF')\")))\nHTTPSConnectionPool(host='api.mapbox.com', port=443): Max retries exceeded with url: /v4/mapbox.satellite/17/106667/54821@2x.png?access_token=sk.eyJ1IjoidmN0Y24iLCJhIjoiY2sxaDc4ZGllMGF0dTNpanlvOXdjNmVrNCJ9.ImJfE6k-f0aMzJj6vSHEYg (Caused by SSLError(SSLError(\"bad handshake: SysCallError(-1, 'Unexpected EOF')\")))\nHTTPSConnectionPool(host='api.mapbox.com', port=443): Max retries exceeded with url: /v4/mapbox.satellite/17/106667/54822@2x.png?access_token=sk.eyJ1IjoidmN0Y24iLCJhIjoiY2sxaDc4ZGllMGF0dTNpanlvOXdjNmVrNCJ9.ImJfE6k-f0aMzJj6vSHEYg (Caused by SSLError(SSLError(\"bad handshake: SysCallError(-1, 'Unexpected EOF')\")))\nHTTPSConnectionPool(host='api.mapbox.com', port=443): Max retries exceeded with url: /v4/mapbox.satellite/17/106668/54826@2x.png?access_token=sk.eyJ1IjoidmN0Y24iLCJhIjoiY2sxaDc4ZGllMGF0dTNpanlvOXdjNmVrNCJ9.ImJfE6k-f0aMzJj6vSHEYg (Caused by SSLError(SSLError(\"bad handshake: SysCallError(-1, 'Unexpected EOF')\")))\nHTTPSConnectionPool(host='api.mapbox.com', port=443): Max retries exceeded with url: /v4/mapbox.satellite/17/106668/54826@2x.png?access_token=sk.eyJ1IjoidmN0Y24iLCJhIjoiY2sxaDc4ZGllMGF0dTNpanlvOXdjNmVrNCJ9.ImJfE6k-f0aMzJj6vSHEYg (Caused by SSLError(SSLError(\"bad handshake: SysCallError(-1, 'Unexpected EOF')\")))\nHTTPSConnectionPool(host='api.mapbox.com', port=443): Max retries exceeded with url: /v4/mapbox.satellite/17/106668/54826@2x.png?access_token=sk.eyJ1IjoidmN0Y24iLCJhIjoiY2sxaDc4ZGllMGF0dTNpanlvOXdjNmVrNCJ9.ImJfE6k-f0aMzJj6vSHEYg (Caused by SSLError(SSLError(\"bad handshake: SysCallError(-1, 'Unexpected EOF')\")))\nHTTPSConnectionPool(host='api.mapbox.com', port=443): Max retries exceeded with url: /v4/mapbox.satellite/17/106669/54820@2x.png?access_token=sk.eyJ1IjoidmN0Y24iLCJhIjoiY2sxaDc4ZGllMGF0dTNpanlvOXdjNmVrNCJ9.ImJfE6k-f0aMzJj6vSHEYg (Caused by SSLError(SSLError(\"bad handshake: SysCallError(-1, 'Unexpected EOF')\")))\nHTTPSConnectionPool(host='api.mapbox.com', port=443): Max retries exceeded with url: /v4/mapbox.satellite/17/106669/54824@2x.png?access_token=sk.eyJ1IjoidmN0Y24iLCJhIjoiY2sxaDc4ZGllMGF0dTNpanlvOXdjNmVrNCJ9.ImJfE6k-f0aMzJj6vSHEYg (Caused by SSLError(SSLError(\"bad handshake: SysCallError(-1, 'Unexpected EOF')\")))\nHTTPSConnectionPool(host='api.mapbox.com', port=443): Max retries exceeded with url: /v4/mapbox.satellite/17/106669/54824@2x.png?access_token=sk.eyJ1IjoidmN0Y24iLCJhIjoiY2sxaDc4ZGllMGF0dTNpanlvOXdjNmVrNCJ9.ImJfE6k-f0aMzJj6vSHEYg (Caused by SSLError(SSLError(\"bad handshake: SysCallError(-1, 'Unexpected EOF')\")))\nHTTPSConnectionPool(host='api.mapbox.com', port=443): Max retries exceeded with url: /v4/mapbox.satellite/17/106670/54824@2x.png?access_token=sk.eyJ1IjoidmN0Y24iLCJhIjoiY2sxaDc4ZGllMGF0dTNpanlvOXdjNmVrNCJ9.ImJfE6k-f0aMzJj6vSHEYg (Caused by SSLError(SSLError(\"bad handshake: SysCallError(-1, 'Unexpected EOF')\")))\nHTTPSConnectionPool(host='api.mapbox.com', port=443): Max retries exceeded with url: /v4/mapbox.satellite/17/106670/54824@2x.png?access_token=sk.eyJ1IjoidmN0Y24iLCJhIjoiY2sxaDc4ZGllMGF0dTNpanlvOXdjNmVrNCJ9.ImJfE6k-f0aMzJj6vSHEYg (Caused by SSLError(SSLError(\"bad handshake: SysCallError(-1, 'Unexpected EOF')\")))\nHTTPSConnectionPool(host='api.mapbox.com', port=443): Max retries exceeded with url: /v4/mapbox.satellite/17/106671/54821@2x.png?access_token=sk.eyJ1IjoidmN0Y24iLCJhIjoiY2sxaDc4ZGllMGF0dTNpanlvOXdjNmVrNCJ9.ImJfE6k-f0aMzJj6vSHEYg (Caused by SSLError(SSLError(\"bad handshake: SysCallError(-1, 'Unexpected EOF')\")))\nHTTPSConnectionPool(host='api.mapbox.com', port=443): Max retries exceeded with url: /v4/mapbox.satellite/17/106672/54820@2x.png?access_token=sk.eyJ1IjoidmN0Y24iLCJhIjoiY2sxaDc4ZGllMGF0dTNpanlvOXdjNmVrNCJ9.ImJfE6k-f0aMzJj6vSHEYg (Caused by SSLError(SSLError(\"bad handshake: SysCallError(-1, 'Unexpected EOF')\")))\nHTTPSConnectionPool(host='api.mapbox.com', port=443): Max retries exceeded with url: /v4/mapbox.satellite/17/106672/54822@2x.png?access_token=sk.eyJ1IjoidmN0Y24iLCJhIjoiY2sxaDc4ZGllMGF0dTNpanlvOXdjNmVrNCJ9.ImJfE6k-f0aMzJj6vSHEYg (Caused by SSLError(SSLError(\"bad handshake: SysCallError(-1, 'Unexpected EOF')\")))\nHTTPSConnectionPool(host='api.mapbox.com', port=443): Max retries exceeded with url: /v4/mapbox.satellite/17/106672/54823@2x.png?access_token=sk.eyJ1IjoidmN0Y24iLCJhIjoiY2sxaDc4ZGllMGF0dTNpanlvOXdjNmVrNCJ9.ImJfE6k-f0aMzJj6vSHEYg (Caused by SSLError(SSLError(\"bad handshake: SysCallError(-1, 'Unexpected EOF')\")))\nHTTPSConnectionPool(host='api.mapbox.com', port=443): Max retries exceeded with url: /v4/mapbox.satellite/17/106672/54823@2x.png?access_token=sk.eyJ1IjoidmN0Y24iLCJhIjoiY2sxaDc4ZGllMGF0dTNpanlvOXdjNmVrNCJ9.ImJfE6k-f0aMzJj6vSHEYg (Caused by SSLError(SSLError(\"bad handshake: SysCallError(-1, 'Unexpected EOF')\")))\nHTTPSConnectionPool(host='api.mapbox.com', port=443): Max retries exceeded with url: /v4/mapbox.satellite/17/106672/54823@2x.png?access_token=sk.eyJ1IjoidmN0Y24iLCJhIjoiY2sxaDc4ZGllMGF0dTNpanlvOXdjNmVrNCJ9.ImJfE6k-f0aMzJj6vSHEYg (Caused by SSLError(SSLError(\"bad handshake: SysCallError(-1, 'Unexpected EOF')\")))\n"
    }
   ],
   "source": [
    "indices = sensor._indices.reshape(-1, 3).tolist()\n",
    "p = export_path + r'\\texture\\satellite'\n",
    "mapbox.dump_texture_by_indices(p, indices, 'satellite')"
   ]
  },
  {
   "cell_type": "code",
   "execution_count": null,
   "metadata": {},
   "outputs": [],
   "source": []
  }
 ]
}